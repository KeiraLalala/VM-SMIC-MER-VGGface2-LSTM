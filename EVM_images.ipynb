{
 "cells": [
  {
   "cell_type": "code",
   "execution_count": 1,
   "metadata": {},
   "outputs": [],
   "source": [
    "import cv2\n",
    "import torch\n",
    "import glob as gb\n",
    "import numpy as np\n",
    "from PIL import Image\n",
    "import matplotlib.pyplot as plt\n",
    "import scipy.signal as signal\n",
    "import scipy.fftpack as fftpack"
   ]
  },
  {
   "cell_type": "code",
   "execution_count": 2,
   "metadata": {},
   "outputs": [],
   "source": [
    "# set path\n",
    "datapaths = \"../SMIC/SMIC_all_cropped/HS\"   # define UCF-101 RGB data path\n",
    "sample = \"/s1/micro/negative/s1_ne_01/*\"\n",
    "Logpath = \"Log\"\n",
    "save_path = \"../OutPut\"\n",
    "action_names = ['negative', 'positive','surprise','non_micro-expression']"
   ]
  },
  {
   "cell_type": "code",
   "execution_count": 3,
   "metadata": {},
   "outputs": [],
   "source": [
    "#Build Gaussian Pyramid\n",
    "def build_gaussian_pyramid(src,level=3):\n",
    "    s=src.copy()\n",
    "    pyramid=[s]#pyramid size:1\n",
    "#     print(\"pyramid_before\",len(pyramid))\n",
    "    for i in range(level):\n",
    "#         print(i,\"s_before\",s.shape)\n",
    "        s=cv2.pyrDown(s) #shrink\n",
    "#         print(i,\"s_after\",s.shape)\n",
    "        pyramid.append(s)\n",
    "#     print(\"pyramid_after\",len(pyramid))\n",
    "    return pyramid #pyramid size:4"
   ]
  },
  {
   "cell_type": "code",
   "execution_count": 4,
   "metadata": {},
   "outputs": [],
   "source": [
    "#Build Laplacian Pyramid\n",
    "def build_laplacian_pyramid(src,levels=3):\n",
    "    gaussianPyramid = build_gaussian_pyramid(src, levels)\n",
    "    pyramid=[]\n",
    "    for i in range(levels,0,-1):\n",
    "#         print(\"i:\", gaussianPyramid[i].shape,\"i-1:\", gaussianPyramid[i-1].shape)\n",
    "        GE=cv2.pyrUp(gaussianPyramid[i])\n",
    "        GD = gaussianPyramid[i-1]\n",
    "#         print(\"i:\", GE.shape,\"i-1:\", gaussianPyramid[i-1].shape)\n",
    "#         GD=cv2.resize(gaussianPyramid[i-1],(GE.shape[1], GE.shape[0]), interpolation=cv2.INTER_CUBIC)\n",
    "        GE=cv2.resize(GE,(GD.shape[1], GD.shape[0]), interpolation=cv2.INTER_CUBIC)\n",
    "#         print(\"GE:\", GE.shape, \"GD\", GD.shape)\n",
    "        L=cv2.subtract(GD,GE)\n",
    "#         print(\"substract:\", L.shape)\n",
    "        pyramid.append(L)\n",
    "    return pyramid"
   ]
  },
  {
   "cell_type": "code",
   "execution_count": 5,
   "metadata": {},
   "outputs": [],
   "source": [
    "#load video from file\n",
    "def load_video(video_filename):\n",
    "    \n",
    "    cap = gb.glob(video_filename)#open image sequence file    \n",
    "    frame_count = len(cap)\n",
    "    print(\"frame_count\",frame_count)\n",
    "    width, height,channel = cv2.imread(cap[0]).shape\n",
    "    video_tensor = np.zeros((frame_count,width, height,channel),dtype='float')\n",
    "    x=0\n",
    "    for img in cap:\n",
    "        frame = cv2.imread(img)\n",
    "        video_tensor[x]=frame\n",
    "        x+=1\n",
    "    fps = 100\n",
    "    print(\"videotensor:\",video_tensor.shape)\n",
    "    return video_tensor,fps"
   ]
  },
  {
   "cell_type": "code",
   "execution_count": 6,
   "metadata": {},
   "outputs": [],
   "source": [
    "#build laplacian pyramid for video\n",
    "def laplacian_video(video_tensor,levels=3):\n",
    "    tensor_list=[]\n",
    "    for i in range(0,video_tensor.shape[0]):\n",
    "        frame=video_tensor[i]\n",
    "        pyr=build_laplacian_pyramid(frame,levels=levels)\n",
    "#         print(i,\"pyr:\", len(pyr), \"py0:\", pyr[0].shape,\"py1:\", pyr[1].shape,\"py2:\", pyr[2].shape)\n",
    "        if i==0:\n",
    "            for k in range(levels):\n",
    "                tensor_list.append(np.zeros((video_tensor.shape[0],pyr[k].shape[0],pyr[k].shape[1],3)))\n",
    "#                 print(k,tensor_list[k].shape)\n",
    "        for n in range(levels):\n",
    "            tensor_list[n][i] = pyr[n]\n",
    "    return tensor_list"
   ]
  },
  {
   "cell_type": "code",
   "execution_count": 7,
   "metadata": {},
   "outputs": [],
   "source": [
    "#butterworth bandpass filter\n",
    "def butter_bandpass_filter(data, lowcut, highcut, fs, order=5):\n",
    "    omega = 0.5 * fs\n",
    "    low = lowcut / omega\n",
    "    high = highcut / omega\n",
    "    b, a = signal.butter(order, [low, high], btype='band')\n",
    "    y = signal.lfilter(b, a, data, axis=0)\n",
    "    return y"
   ]
  },
  {
   "cell_type": "code",
   "execution_count": 8,
   "metadata": {},
   "outputs": [],
   "source": [
    "def reconstract_from_tensorlist(filter_tensor_list,levels=3):\n",
    "    final=np.zeros(filter_tensor_list[-1].shape)\n",
    "    for i in range(filter_tensor_list[0].shape[0]):\n",
    "        up = filter_tensor_list[0][i]\n",
    "        for n in range(levels-1):\n",
    "            up=cv2.pyrUp(up)\n",
    "            uf = filter_tensor_list[n + 1][i]\n",
    "            up = cv2.resize(up,(uf.shape[1], uf.shape[0]), interpolation=cv2.INTER_CUBIC)\n",
    "#             up=cv2.pyrUp(up)+#可以改为up=cv2.pyrUp(up)\n",
    "            up+=uf\n",
    "#             print(\"up:\", up.shape,\"ftl:\", filter_tensor_list[n + 1][i].shape)\n",
    "        final[i]=up\n",
    "    return final"
   ]
  },
  {
   "cell_type": "code",
   "execution_count": 9,
   "metadata": {},
   "outputs": [],
   "source": [
    "def save_image(final):   \n",
    "    save_name = \"MagImg\"\n",
    "    ext = \".png\"\n",
    "    for i in range(final.shape[0]):\n",
    "        sample = final[i]\n",
    "        filename =save_name+ str(i)+ext\n",
    "        print(filename)\n",
    "        cv2.imwrite(filename, sample)"
   ]
  },
  {
   "cell_type": "code",
   "execution_count": 10,
   "metadata": {},
   "outputs": [],
   "source": [
    "#manify motion\n",
    "def magnify_motion(datapaths,low,high,levels=3,amplification=20):\n",
    "    video_name = datapaths+sample\n",
    "    t,f=load_video(video_name)    \n",
    "    lap_video_list=laplacian_video(t,levels=levels)\n",
    "\n",
    "    filter_tensor_list=[]\n",
    "    for i in range(levels):\n",
    "        filter_tensor=butter_bandpass_filter(lap_video_list[i],low,high,f)\n",
    "        filter_tensor*=amplification\n",
    "        filter_tensor_list.append(filter_tensor)\n",
    "    recon=reconstract_from_tensorlist(filter_tensor_list)    \n",
    "    final=t+recon\n",
    "    print('final:',final.shape)\n",
    "    save_image(final)\n",
    "#     save_video(final)\n"
   ]
  },
  {
   "cell_type": "code",
   "execution_count": 11,
   "metadata": {
    "scrolled": true
   },
   "outputs": [
    {
     "name": "stdout",
     "output_type": "stream",
     "text": [
      "frame_count 36\n",
      "videotensor: (36, 161, 131, 3)\n",
      "final: (36, 161, 131, 3)\n",
      "MagImg0.png\n",
      "MagImg1.png\n",
      "MagImg2.png\n",
      "MagImg3.png\n",
      "MagImg4.png\n",
      "MagImg5.png\n",
      "MagImg6.png\n",
      "MagImg7.png\n",
      "MagImg8.png\n",
      "MagImg9.png\n",
      "MagImg10.png\n",
      "MagImg11.png\n",
      "MagImg12.png\n",
      "MagImg13.png\n",
      "MagImg14.png\n",
      "MagImg15.png\n",
      "MagImg16.png\n",
      "MagImg17.png\n",
      "MagImg18.png\n",
      "MagImg19.png\n",
      "MagImg20.png\n",
      "MagImg21.png\n",
      "MagImg22.png\n",
      "MagImg23.png\n",
      "MagImg24.png\n",
      "MagImg25.png\n",
      "MagImg26.png\n",
      "MagImg27.png\n",
      "MagImg28.png\n",
      "MagImg29.png\n",
      "MagImg30.png\n",
      "MagImg31.png\n",
      "MagImg32.png\n",
      "MagImg33.png\n",
      "MagImg34.png\n",
      "MagImg35.png\n"
     ]
    }
   ],
   "source": [
    "if __name__==\"__main__\":\n",
    "    magnify_motion(datapaths,0.15,0.3)\n"
   ]
  }
 ],
 "metadata": {
  "kernelspec": {
   "display_name": "Python (myenv)",
   "language": "python",
   "name": "myenv"
  },
  "language_info": {
   "codemirror_mode": {
    "name": "ipython",
    "version": 3
   },
   "file_extension": ".py",
   "mimetype": "text/x-python",
   "name": "python",
   "nbconvert_exporter": "python",
   "pygments_lexer": "ipython3",
   "version": "3.7.5"
  }
 },
 "nbformat": 4,
 "nbformat_minor": 4
}
